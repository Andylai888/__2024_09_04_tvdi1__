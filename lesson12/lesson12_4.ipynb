{
 "cells": [
  {
   "cell_type": "code",
   "execution_count": 1,
   "metadata": {},
   "outputs": [],
   "source": [
    "from dotenv import load_dotenv\n",
    "import requests\n",
    "load_dotenv()\n",
    "def get_youbike_str()->str:\n",
    "    url = f'https://tcgbusfs.blob.core.windows.net/dotapp/youbike/v2/youbike_immediate.json'\n",
    "    try:\n",
    "        r = requests.get(url)\n",
    "        r.raise_for_status()\n",
    "    except Exception as e:\n",
    "        print(f\"發生錯誤:{e}\")\n",
    "    return r.text\n",
    "\n",
    "youbike_data:str = get_youbike_str()\n"
   ]
  },
  {
   "cell_type": "code",
   "execution_count": null,
   "metadata": {},
   "outputs": [],
   "source": [
    "from pydantic import RootModel,BaseModel,Field,field_validator\n",
    "from datetime import datetime\n",
    "class Taipei_youbike(BaseModel):\n",
    "    編號:str = Field(alias='sno')\n",
    "    站點名稱: str = Field(alias='sna')\n",
    "    行政區: str = Field(alias='sarea')\n",
    "    日期:datetime = Field(alias='mday')\n",
    "    地址:str = Field(alias='ar')\n",
    "    營運:bool = Field(alias='act')\n",
    "    總車輛數:int = Field(alias='total')\n",
    "    可借:int = Field(alias='available_rent_bikes')\n",
    "    可還:int = Field(alias='available_return_bikes')\n",
    "    緯度:float = Field(alias='latitude')\n",
    "    經度:float = Field(alias='longitude')\n",
    "\n",
    "    @field_validator('站點名稱')\n",
    "    @classmethod\n",
    "    def cut_sitename(cls, name:str) -> str:\n",
    "        return name.split('_')[1]\n",
    "\n",
    "\n",
    "class Root_youbike(RootModel):\n",
    "    root: list[Taipei_youbike]\n",
    "\n",
    "model = Root_youbike.model_validate_json(youbike_data)\n",
    "model"
   ]
  },
  {
   "cell_type": "code",
   "execution_count": null,
   "metadata": {},
   "outputs": [],
   "source": [
    "youbike_data:list[dict] = model.model_dump()\n",
    "for site in youbike_data:\n",
    "    print(site)"
   ]
  }
 ],
 "metadata": {
  "kernelspec": {
   "display_name": "tvdi",
   "language": "python",
   "name": "python3"
  },
  "language_info": {
   "codemirror_mode": {
    "name": "ipython",
    "version": 3
   },
   "file_extension": ".py",
   "mimetype": "text/x-python",
   "name": "python",
   "nbconvert_exporter": "python",
   "pygments_lexer": "ipython3",
   "version": "3.11.10"
  }
 },
 "nbformat": 4,
 "nbformat_minor": 2
}
