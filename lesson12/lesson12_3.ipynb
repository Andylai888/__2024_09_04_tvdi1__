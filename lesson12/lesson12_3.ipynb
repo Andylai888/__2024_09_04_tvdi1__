{
 "cells": [
  {
   "cell_type": "code",
   "execution_count": null,
   "metadata": {},
   "outputs": [],
   "source": [
    "from dotenv import load_dotenv\n",
    "import os\n",
    "import requests\n",
    "load_dotenv()\n",
    "def get_aqi_str(aqi_key:str)->str:\n",
    "    url = f'https://data.moenv.gov.tw/api/v2/aqx_p_488?api_key={aqi_key}&limit=1000&sort=datacreationdate desc&format=JSON'\n",
    "    try:\n",
    "        r = requests.get(url)\n",
    "        r.raise_for_status()\n",
    "    except Exception as e:\n",
    "        print(f\"發生錯誤:{e}\")\n",
    "    return r.text\n",
    "\n",
    "aqi_data:str = get_aqi_str(aqi_key=os.environ['AQI_KEY'])"
   ]
  },
  {
   "cell_type": "code",
   "execution_count": null,
   "metadata": {},
   "outputs": [],
   "source": [
    "from pydantic import BaseModel,Field\n",
    "\n",
    "class Record(BaseModel):\n",
    "    站點: str = Field(alias='sitename')\n",
    "    縣市: str = Field(alias='county')\n",
    "    aqi: int\n",
    "    狀態: str = Field(alias='status')\n",
    "    pm25: float = Field(alias='pm2.5')\n",
    "    緯度: float = Field(alias='latitude')\n",
    "    經度: float = Field(alias='longitude')\n",
    "\n",
    "\n",
    "class AQI(BaseModel):\n",
    "    records: list[Record]\n",
    "\n",
    "aqi = AQI.model_validate_json(aqi_data)\n",
    "\n",
    "#驗証錯誤,pm2.5和aqi有空字串,無法轉換為float"
   ]
  },
  {
   "cell_type": "code",
   "execution_count": null,
   "metadata": {},
   "outputs": [],
   "source": [
    "from pydantic import BaseModel,Field,field_validator,field_serializer\n",
    "from datetime import datetime\n",
    "\n",
    "class Record(BaseModel):\n",
    "    站點: str = Field(alias='sitename')\n",
    "    縣市: str = Field(alias='county')\n",
    "    日期: datetime = Field(alias='datacreationdate')\n",
    "    aqi: float | None \n",
    "    狀態: str = Field(alias='status')\n",
    "    pm25: float | None = Field(alias='pm2.5')\n",
    "    緯度: float = Field(alias='latitude')\n",
    "    經度: float = Field(alias='longitude')\n",
    "\n",
    "    @field_validator(\"pm25\",\"aqi\",mode='before')\n",
    "    @classmethod\n",
    "    def pm25_for_empty_string(cls,v:str)->float:\n",
    "        if v == '':\n",
    "            return None\n",
    "        else:\n",
    "            return float(v)\n",
    "    \n",
    "    @field_serializer('緯度','經度')\n",
    "    def four_digits(self,value:float)->float:\n",
    "        return round(value,ndigits=4)\n",
    "    \n",
    "    @field_serializer('日期')\n",
    "    def datetime_to_string(self,date:datetime) -> str:\n",
    "        return date.strftime('%Y:%m:%d %H:%M:00')\n",
    "\n",
    "\n",
    "class AQI(BaseModel):\n",
    "    records: list[Record]\n",
    "\n",
    "aqi = AQI.model_validate_json(aqi_data)"
   ]
  },
  {
   "cell_type": "code",
   "execution_count": null,
   "metadata": {},
   "outputs": [],
   "source": [
    "aqi_data:list[dict] = aqi.model_dump()['records']\n",
    "for aqi_item in aqi_data:\n",
    "    print(aqi_item)"
   ]
  }
 ],
 "metadata": {
  "kernelspec": {
   "display_name": "tvdi",
   "language": "python",
   "name": "python3"
  },
  "language_info": {
   "codemirror_mode": {
    "name": "ipython",
    "version": 3
   },
   "file_extension": ".py",
   "mimetype": "text/x-python",
   "name": "python",
   "nbconvert_exporter": "python",
   "pygments_lexer": "ipython3",
   "version": "3.11.10"
  }
 },
 "nbformat": 4,
 "nbformat_minor": 2
}
