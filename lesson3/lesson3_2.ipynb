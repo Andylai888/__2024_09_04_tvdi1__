{
 "cells": [
  {
   "cell_type": "code",
   "execution_count": 14,
   "metadata": {},
   "outputs": [],
   "source": [
    "class Person(object):\n",
    "   \n",
    "    def __init__(self,name:str,age:int):\n",
    "        self.__name = name \n",
    "        self.__age = age \n",
    "\n",
    "    def __repr__(self)->str:\n",
    "        return f'我的名字是:{self.name}\\n我的age是{self.age}'\n",
    "    \n",
    "    @property\n",
    "    def name(self)->str:\n",
    "        return self.__name\n",
    "    \n",
    "    @name.setter\n",
    "    def name(self,n):\n",
    "        print(f\"不可以改名為{n}\")\n",
    "\n",
    "    @property\n",
    "    def age(self)->int:\n",
    "        return self.__age\n",
    "    \n",
    "    @age.setter\n",
    "    def age(self,value): \n",
    "        if value > 100 or value < 0:\n",
    "            print(\"不合法的值\")\n",
    "        else:\n",
    "            self.__age = value"
   ]
  },
  {
   "cell_type": "code",
   "execution_count": 15,
   "metadata": {},
   "outputs": [],
   "source": [
    "class Student(Person): \n",
    "\n",
    "    @classmethod\n",
    "    def echo(cls):\n",
    "        print(\"Hello!我是StudentClass\")\n",
    "\n",
    "        \n",
    "    def __init__(self, age:int, name:str, chinese:int=0, english:int=0, math:int=0):\n",
    "        super().__init__(name=name,age=age) \n",
    "        self.chinese = chinese\n",
    "        self.english = english\n",
    "        self.math = math\n",
    "\n",
    "    @property\n",
    "    def total(self)->int:\n",
    "        return self.chinese + self.english + self.math\n",
    "    \n",
    "  \n",
    "    def average(self) -> float:\n",
    "        return round(self.total / 3,ndigits=2)   "
   ]
  },
  {
   "cell_type": "code",
   "execution_count": 16,
   "metadata": {},
   "outputs": [
    {
     "name": "stdout",
     "output_type": "stream",
     "text": [
      "我的名字是:賴豐文\n",
      "我的age是40\n",
      "78\n",
      "92\n",
      "98\n",
      "268\n",
      "89.33\n"
     ]
    }
   ],
   "source": [
    "stu1 = Student(name=\"賴豐文\", age=40, chinese=78, english=92, math=98)\n",
    "print(stu1)\n",
    "print(stu1.chinese) \n",
    "print(stu1.english) \n",
    "print(stu1.math) \n",
    "print(stu1.total) \n",
    "print(stu1.average()) "
   ]
  },
  {
   "cell_type": "code",
   "execution_count": 13,
   "metadata": {},
   "outputs": [
    {
     "name": "stdout",
     "output_type": "stream",
     "text": [
      "Hello!我是StudentClass\n"
     ]
    }
   ],
   "source": [
    "Student.echo()"
   ]
  }
 ],
 "metadata": {
  "kernelspec": {
   "display_name": "tvdi",
   "language": "python",
   "name": "python3"
  },
  "language_info": {
   "codemirror_mode": {
    "name": "ipython",
    "version": 3
   },
   "file_extension": ".py",
   "mimetype": "text/x-python",
   "name": "python",
   "nbconvert_exporter": "python",
   "pygments_lexer": "ipython3",
   "version": "3.11.10"
  }
 },
 "nbformat": 4,
 "nbformat_minor": 2
}
