{
 "cells": [
  {
   "cell_type": "code",
   "execution_count": 1,
   "metadata": {},
   "outputs": [],
   "source": [
    "import requests\n",
    "from requests import Response\n",
    "\n",
    "url = 'https://data.moi.gov.tw/MoiOD/System/DownloadFile.aspx?DATA=44E49A04-8DE8-4E74-B872-BE322286C940'\n",
    "\n",
    "response:Response = requests.get(url)"
   ]
  },
  {
   "cell_type": "code",
   "execution_count": 2,
   "metadata": {},
   "outputs": [],
   "source": [
    "import json\n",
    "\n",
    "data_lines2 = response.text.splitlines()\n",
    "data_list1 = []\n",
    "\n",
    "headers = data_lines2[0].split(',')\n",
    "\n",
    "for line in data_lines2[1:]:\n",
    "    values = line.split(',')\n",
    "    row_dict = dict(zip(headers,values))\n",
    "    data_list1.append(row_dict)\n",
    "\n",
    "with open('a2.json','w',encoding='utf-8') as json_file:\n",
    "    json.dump(data_list1,json_file,ensure_ascii=False,indent=4)"
   ]
  }
 ],
 "metadata": {
  "kernelspec": {
   "display_name": "tvdi",
   "language": "python",
   "name": "python3"
  },
  "language_info": {
   "codemirror_mode": {
    "name": "ipython",
    "version": 3
   },
   "file_extension": ".py",
   "mimetype": "text/x-python",
   "name": "python",
   "nbconvert_exporter": "python",
   "pygments_lexer": "ipython3",
   "version": "3.10.15"
  }
 },
 "nbformat": 4,
 "nbformat_minor": 2
}
