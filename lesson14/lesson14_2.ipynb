{
 "cells": [
  {
   "cell_type": "code",
   "execution_count": null,
   "metadata": {},
   "outputs": [],
   "source": [
    "import psycopg2\n",
    "conn = psycopg2.connect(database='postgres',user='andylai888',host='localhost',password='secret')\n",
    "cursor = conn.cursor()\n",
    "cursor.execute('SELECT * FROM city')\n",
    "data = cursor.fetchall()\n",
    "cursor.close()\n",
    "conn.close()\n",
    "print(data)"
   ]
  },
  {
   "cell_type": "code",
   "execution_count": null,
   "metadata": {},
   "outputs": [],
   "source": [
    "import psycopg2\n",
    "from dotenv import load_dotenv\n",
    "import os\n",
    "load_dotenv()\n",
    "\n",
    "with psycopg2.connect(database=os.environ['Postgres_DB'],\n",
    "                      user=os.environ['Postgres_user'],\n",
    "                      host=os.environ['Postgres_HOST'],\n",
    "                      password=os.environ['Postgres_password']) as conn:\n",
    "    with conn.cursor() as cursor:\n",
    "        cursor.execute('SELECT * FROM city')\n",
    "        data:list[tuple] = cursor.fetchall()\n",
    "    \n",
    "#list comprehension\n",
    "\n",
    "convert_data:list[dict] = [{'_id':item[0],\n",
    "                            'city_name':item[1],\n",
    "                            'continent':item[2],\n",
    "                            'country':item[3],\n",
    "                            'image':item[4]\n",
    "                            } for item in data]\n",
    "convert_data"
   ]
  }
 ],
 "metadata": {
  "kernelspec": {
   "display_name": "tvdi",
   "language": "python",
   "name": "python3"
  },
  "language_info": {
   "codemirror_mode": {
    "name": "ipython",
    "version": 3
   },
   "file_extension": ".py",
   "mimetype": "text/x-python",
   "name": "python",
   "nbconvert_exporter": "python",
   "pygments_lexer": "ipython3",
   "version": "3.11.10"
  }
 },
 "nbformat": 4,
 "nbformat_minor": 2
}
