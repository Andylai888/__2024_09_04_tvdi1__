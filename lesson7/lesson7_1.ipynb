{
 "cells": [
  {
   "cell_type": "code",
   "execution_count": 1,
   "metadata": {},
   "outputs": [],
   "source": [
    "import sqlite3\n",
    "conn = sqlite3.connect(\"AQI1.db\")\n",
    "with conn:\n",
    "    sql = '''\n",
    "    CREATE TABLE IF NOT EXISTS records (\n",
    "        id INTEGER NOT NULL PRIMARY KEY AUTOINCREMENT,\n",
    "        sitename TEXT NOT NULL,\n",
    "        county TEXT,\n",
    "        aqi INTEGER,\n",
    "        status TEXT,\n",
    "        pm25 NUMERIC,\n",
    "        date TEXT,\n",
    "        lat NUMERIC,\n",
    "        lon NUMERIC,\n",
    "        UNIQUE(sitename,date)\n",
    "    );\n",
    "    '''\n",
    "    cursor = conn.cursor()\n",
    "    cursor.execute(sql)"
   ]
  },
  {
   "cell_type": "code",
   "execution_count": 2,
   "metadata": {},
   "outputs": [
    {
     "name": "stdout",
     "output_type": "stream",
     "text": [
      "['鳳山', '線西', '高雄（湖內）', '屏東(枋山)', '馬公', '大寮', '觀音', '金門', '馬祖', '陽明', '嘉義', '彰化', '豐原', '麥寮', '沙鹿', '三義', '大同', '中壢', '大里', '新營', '新竹', '三重', '關山', '竹山', '小港', '新北(樹林)', '大城', '龍潭', '彰化（員林）', '湖口', '二林', '萬華', '左營', '楠梓', '善化', '美濃', '竹東', '古亭', '宜蘭', '永和', '西屯', '恆春', '土城', '崙背', '大園', '新港', '新莊', '橋頭', '屏東（琉球）', '臺西', '花蓮', '中山', '忠明', '林口', '新店', '松山', '汐止', '安南', '士林', '林園', '復興', '斗六', '臺東', '萬里', '埔里', '平鎮', '臺南', '頭份', '屏東', '菜寮', '冬山', '板橋', '苗栗', '南投', '潮州', '臺南（麻豆）', '前金', '仁武', '富貴角', '淡水', '前鎮', '基隆', '宜蘭（頭城）', '桃園', '朴子']\n",
      "['鳳山', '線西', '高雄（湖內）', '屏東(枋山)', '馬公', '大寮', '觀音', '金門', '馬祖', '陽明', '嘉義', '彰化', '豐原', '麥寮', '沙鹿', '三義', '大同', '中壢', '大里', '新營', '新竹', '三重', '關山', '竹山', '小港', '新北(樹林)', '大城', '龍潭', '彰化（員林）', '湖口', '二林', '萬華', '左營', '楠梓', '善化', '美濃', '竹東', '古亭', '宜蘭', '永和', '西屯', '恆春', '土城', '崙背', '大園', '新港', '新莊', '橋頭', '屏東（琉球）', '臺西', '花蓮', '中山', '忠明', '林口', '新店', '松山', '汐止', '安南', '士林', '林園', '復興', '斗六', '臺東', '萬里', '埔里', '平鎮', '臺南', '頭份', '屏東', '菜寮', '冬山', '板橋', '苗栗', '南投', '潮州', '臺南（麻豆）', '前金', '仁武', '富貴角', '淡水', '前鎮', '基隆', '宜蘭（頭城）', '桃園', '朴子']\n"
     ]
    }
   ],
   "source": [
    "import requests\n",
    "\n",
    "url = 'https://data.moenv.gov.tw/api/v2/aqx_p_488?api_key=e8dd42e6-9b8b-43f8-991e-b3dee723a52d&limit=1000&sort=datacreationdate%20desc&format=JSON'\n",
    "try:\n",
    "    response = requests.get(url)\n",
    "    response.raise_for_status()\n",
    "    data = response.json()\n",
    "except Exception as e:\n",
    "    print(e)\n",
    "else:\n",
    "    sitenames = set()\n",
    "    for items in data['records']:\n",
    "        sitenames.add(items['sitename'])\n",
    "\n",
    "    sitenames = list(sitenames)\n",
    "print(sitenames)\n",
    "print(sitenames)"
   ]
  },
  {
   "cell_type": "code",
   "execution_count": 3,
   "metadata": {},
   "outputs": [
    {
     "data": {
      "text/plain": [
       "[]"
      ]
     },
     "execution_count": 3,
     "metadata": {},
     "output_type": "execute_result"
    }
   ],
   "source": [
    "import datasource\n",
    "datasource.get_selected_data(sitename='屏東(枋山)')"
   ]
  },
  {
   "cell_type": "code",
   "execution_count": 5,
   "metadata": {},
   "outputs": [],
   "source": [
    "import sqlite3\n",
    "conn = sqlite3.connect(\"AQI1.db\")\n",
    "with conn:\n",
    "    sql = '''INSERT OR IGNORE INTO records(sitename,county,aqi,status,pm25,date,lat,lon)\n",
    "    values ('屏東(枋山)','屏東縣', 34, '良好',18,'2024-11-04 10:00', 22.260899, 120.651472);\n",
    "    '''\n",
    "    cursor = conn.cursor()\n",
    "    cursor.execute(sql)"
   ]
  },
  {
   "cell_type": "code",
   "execution_count": 6,
   "metadata": {},
   "outputs": [],
   "source": [
    "import sqlite3\n",
    "conn = sqlite3.connect(\"AQI1.db\")\n",
    "url = 'https://data.moenv.gov.tw/api/v2/aqx_p_488?api_key=e8dd42e6-9b8b-43f8-991e-b3dee723a52d&limit=1000&sort=datacreationdate%20desc&format=JSON'\n",
    "try:\n",
    "    response = requests.get(url)\n",
    "    response.raise_for_status()\n",
    "    data = response.json()\n",
    "except Exception as e:\n",
    "    print(e)\n",
    "else:\n",
    "    sitenames = set()\n",
    "    with conn:\n",
    "        cursor = conn.cursor()\n",
    "        for items in data['records']:\n",
    "            sitename = items['sitename']\n",
    "            county = items['county']\n",
    "            aqi = int(items['aqi']) if items['aqi'] != '' else 0\n",
    "            status = items['status']\n",
    "            pm25 = float(items['pm2.5']) if items['pm2.5'] != '' else 0.0\n",
    "            date = items['datacreationdate']\n",
    "            lon = float(items['longitude']) if items['longitude'] != '' else 0.0\n",
    "            lat = float(items['latitude']) if items['latitude'] != '' else 0.0\n",
    "            sql = '''INSERT OR IGNORE INTO records(sitename,county,aqi,status,pm25,date,lat,lon)\n",
    "                    values (?,?, ?, ?,?,?,?,?);\n",
    "            '''\n",
    "            cursor.execute(sql,(sitename, county, aqi, status,pm25,date,lat,lon))\n",
    "\n",
    "\n",
    "\n",
    "        "
   ]
  },
  {
   "cell_type": "code",
   "execution_count": 7,
   "metadata": {},
   "outputs": [
    {
     "name": "stdout",
     "output_type": "stream",
     "text": [
      "['三義', '三重', '中壢', '中山', '二林', '仁武', '冬山', '前金', '前鎮', '南投', '古亭', '善化', '嘉義', '土城', '埔里', '基隆', '士林', '大同', '大園', '大城', '大寮', '大里', '安南', '宜蘭', '宜蘭（頭城）', '富貴角', '小港', '屏東', '屏東(枋山)', '屏東（琉球）', '崙背', '左營', '平鎮', '彰化', '彰化（員林）', '復興', '忠明', '恆春', '斗六', '新北(樹林)', '新店', '新港', '新營', '新竹', '新莊', '朴子', '松山', '板橋', '林口', '林園', '桃園', '楠梓', '橋頭', '永和', '汐止', '沙鹿', '淡水', '湖口', '潮州', '竹山', '竹東', '線西', '美濃', '臺南', '臺南（麻豆）', '臺東', '臺西', '花蓮', '苗栗', '菜寮', '萬華', '萬里', '西屯', '觀音', '豐原', '金門', '關山', '陽明', '頭份', '馬公', '馬祖', '高雄（湖內）', '鳳山', '麥寮', '龍潭']\n"
     ]
    }
   ],
   "source": [
    "conn = sqlite3.connect(\"AQI1.db\")\n",
    "with conn:\n",
    "    cursor = conn.cursor()\n",
    "    sql = '''\n",
    "    SELECT DISTINCT sitename\n",
    "    FROM records\n",
    "    '''\n",
    "    cursor.execute(sql)\n",
    "    sitenames = []\n",
    "\n",
    "    for items in cursor.fetchall():\n",
    "        sitenames.append(items[0])\n",
    "    \n",
    "    print(sitenames)"
   ]
  },
  {
   "cell_type": "code",
   "execution_count": 8,
   "metadata": {},
   "outputs": [
    {
     "name": "stdout",
     "output_type": "stream",
     "text": [
      "[['2024-11-12 11:00', '新北市', 40, 7, '良好', 25.29681695, 121.53656894], ['2024-11-12 10:00', '新北市', 39, 10, '良好', 25.29681695, 121.53656894], ['2024-11-12 09:00', '新北市', 39, 10, '良好', 25.29681695, 121.53656894], ['2024-11-12 08:00', '新北市', 39, 10, '良好', 25.29681695, 121.53656894], ['2024-11-12 07:00', '新北市', 38, 10, '良好', 25.29681695, 121.53656894], ['2024-11-12 06:00', '新北市', 38, 12, '良好', 25.29681695, 121.53656894], ['2024-11-12 05:00', '新北市', 38, 10, '良好', 25.29681695, 121.53656894]]\n"
     ]
    }
   ],
   "source": [
    "conn = sqlite3.connect(\"AQI1.db\")\n",
    "with conn:\n",
    "    cursor = conn.cursor()        \n",
    "    sql = '''\n",
    "    SELECT date,county,aqi,pm25,status,lat,lon\n",
    "    FROM records\n",
    "    WHERE sitename=?\n",
    "    ORDER BY date DESC;\n",
    "    '''\n",
    "    cursor.execute(sql,('富貴角',))\n",
    "    sitename_list = [list(item) for item in cursor.fetchall()]\n",
    "    print(sitename_list)"
   ]
  }
 ],
 "metadata": {
  "kernelspec": {
   "display_name": "tvdi",
   "language": "python",
   "name": "python3"
  },
  "language_info": {
   "codemirror_mode": {
    "name": "ipython",
    "version": 3
   },
   "file_extension": ".py",
   "mimetype": "text/x-python",
   "name": "python",
   "nbconvert_exporter": "python",
   "pygments_lexer": "ipython3",
   "version": "3.10.15"
  }
 },
 "nbformat": 4,
 "nbformat_minor": 2
}
