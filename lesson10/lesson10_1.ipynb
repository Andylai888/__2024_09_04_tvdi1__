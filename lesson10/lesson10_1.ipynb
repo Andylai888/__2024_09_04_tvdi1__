{
 "cells": [
  {
   "cell_type": "code",
   "execution_count": 6,
   "metadata": {},
   "outputs": [
    {
     "ename": "OperationalError",
     "evalue": "no such table: records",
     "output_type": "error",
     "traceback": [
      "\u001b[1;31m---------------------------------------------------------------------------\u001b[0m",
      "\u001b[1;31mOperationalError\u001b[0m                          Traceback (most recent call last)",
      "Cell \u001b[1;32mIn[6], line 11\u001b[0m\n\u001b[0;32m      5\u001b[0m cursor \u001b[38;5;241m=\u001b[39m conn\u001b[38;5;241m.\u001b[39mcursor()        \n\u001b[0;32m      6\u001b[0m sql \u001b[38;5;241m=\u001b[39m \u001b[38;5;124m'''\u001b[39m\n\u001b[0;32m      7\u001b[0m \u001b[38;5;124mSELECT date,aqi,pm25\u001b[39m\n\u001b[0;32m      8\u001b[0m \u001b[38;5;124mFROM records\u001b[39m\n\u001b[0;32m      9\u001b[0m \u001b[38;5;124mWHERE sitename = \u001b[39m\u001b[38;5;124m'\u001b[39m\u001b[38;5;124m大城\u001b[39m\u001b[38;5;124m'\u001b[39m\u001b[38;5;124m; \u001b[39m\n\u001b[0;32m     10\u001b[0m \u001b[38;5;124m\u001b[39m\u001b[38;5;124m'''\u001b[39m\n\u001b[1;32m---> 11\u001b[0m \u001b[43mcursor\u001b[49m\u001b[38;5;241;43m.\u001b[39;49m\u001b[43mexecute\u001b[49m\u001b[43m(\u001b[49m\u001b[43msql\u001b[49m\u001b[43m)\u001b[49m\n\u001b[0;32m     12\u001b[0m data_list \u001b[38;5;241m=\u001b[39m []\n\u001b[0;32m     13\u001b[0m \u001b[38;5;28;01mfor\u001b[39;00m item \u001b[38;5;129;01min\u001b[39;00m cursor\u001b[38;5;241m.\u001b[39mfetchall():\n",
      "\u001b[1;31mOperationalError\u001b[0m: no such table: records"
     ]
    }
   ],
   "source": [
    "import sqlite3\n",
    "from pprint import pprint\n",
    "conn = sqlite3.connect(\"AQI.db\")\n",
    "with conn:\n",
    "    cursor = conn.cursor()        \n",
    "    sql = '''\n",
    "    SELECT date,aqi,pm25\n",
    "    FROM records\n",
    "    WHERE sitename = '大城'; \n",
    "    '''\n",
    "    cursor.execute(sql)\n",
    "    data_list = []\n",
    "    for item in cursor.fetchall():\n",
    "        date = item[0]\n",
    "        aqi = item[1]\n",
    "        pm25 = item[2]\n",
    "        data_list.append({'date':date,'aqi':aqi,'pm25':pm25})\n",
    "\n",
    "pprint(data_list)"
   ]
  },
  {
   "cell_type": "code",
   "execution_count": 7,
   "metadata": {},
   "outputs": [
    {
     "ename": "ModuleNotFoundError",
     "evalue": "No module named 'pandas'",
     "output_type": "error",
     "traceback": [
      "\u001b[1;31m---------------------------------------------------------------------------\u001b[0m",
      "\u001b[1;31mModuleNotFoundError\u001b[0m                       Traceback (most recent call last)",
      "Cell \u001b[1;32mIn[7], line 1\u001b[0m\n\u001b[1;32m----> 1\u001b[0m \u001b[38;5;28;01mimport\u001b[39;00m \u001b[38;5;21;01mpandas\u001b[39;00m \u001b[38;5;28;01mas\u001b[39;00m \u001b[38;5;21;01mpd\u001b[39;00m\n\u001b[0;32m      2\u001b[0m df \u001b[38;5;241m=\u001b[39m pd\u001b[38;5;241m.\u001b[39mDataFrame(data_list)\n\u001b[0;32m      3\u001b[0m df[\u001b[38;5;124m'\u001b[39m\u001b[38;5;124mdate\u001b[39m\u001b[38;5;124m'\u001b[39m] \u001b[38;5;241m=\u001b[39m pd\u001b[38;5;241m.\u001b[39mto_datetime(df[\u001b[38;5;124m'\u001b[39m\u001b[38;5;124mdate\u001b[39m\u001b[38;5;124m'\u001b[39m])\n",
      "\u001b[1;31mModuleNotFoundError\u001b[0m: No module named 'pandas'"
     ]
    }
   ],
   "source": [
    "import pandas as pd\n",
    "df = pd.DataFrame(data_list)\n",
    "df['date'] = pd.to_datetime(df['date'])\n",
    "df1 = df.set_index('date')\n",
    "df1"
   ]
  },
  {
   "cell_type": "code",
   "execution_count": null,
   "metadata": {},
   "outputs": [],
   "source": [
    "df1.plot()"
   ]
  }
 ],
 "metadata": {
  "kernelspec": {
   "display_name": "tvdi",
   "language": "python",
   "name": "python3"
  },
  "language_info": {
   "codemirror_mode": {
    "name": "ipython",
    "version": 3
   },
   "file_extension": ".py",
   "mimetype": "text/x-python",
   "name": "python",
   "nbconvert_exporter": "python",
   "pygments_lexer": "ipython3",
   "version": "3.10.15"
  }
 },
 "nbformat": 4,
 "nbformat_minor": 2
}
